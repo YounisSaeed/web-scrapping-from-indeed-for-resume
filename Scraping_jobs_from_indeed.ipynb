{
 "cells": [
  {
   "cell_type": "code",
   "execution_count": 53,
   "metadata": {},
   "outputs": [],
   "source": [
    "from selenium import webdriver\n",
    "import pandas as pd \n",
    "from bs4 import BeautifulSoup"
   ]
  },
  {
   "cell_type": "code",
   "execution_count": 54,
   "metadata": {},
   "outputs": [],
   "source": [
    "chromedriver = \"C:\\\\Users\\\\Younis Saeed\\\\Downloads\\\\selem\\\\chromedriver\"\n",
    "driver = webdriver.Chrome(chromedriver)\n"
   ]
  },
  {
   "cell_type": "code",
   "execution_count": 55,
   "metadata": {},
   "outputs": [],
   "source": [
    "df = pd.DataFrame(columns=[\"Title\",\"Locations\",\"Company\",\"Salary\",\"Sponsored\",\"Descroption\"])"
   ]
  },
  {
   "cell_type": "code",
   "execution_count": 41,
   "metadata": {},
   "outputs": [],
   "source": [
    "for i in range(0,500,10):\n",
    "    driver.get(\"https://eg.indeed.com/jobs?q=data+science&l=egypt&start=\"+str(i))\n",
    "    driver.implicitly_wait(4)\n",
    "    all_jobs = driver.find_elements_by_class_name('result')\n"
   ]
  },
  {
   "cell_type": "code",
   "execution_count": 42,
   "metadata": {},
   "outputs": [],
   "source": [
    "for job in all_jobs:\n",
    "    result_html = job.get_attribute('innerHTML')\n",
    "    soup = BeautifulSoup(result_html , 'html.parser')\n",
    "    try:\n",
    "        title = soup.find(\"a\",class_=\"jobtitle\").text.replace('\\n','')\n",
    "    except:\n",
    "        title = 'None'\n",
    "    try:\n",
    "        location = soup.find(class_=\"location\").text\n",
    "    except:\n",
    "        location = 'None'\n",
    "    try:\n",
    "        company = soup.find(class_=\"company\").text.replace(\"\\n\",\"\").strip()\n",
    "    except:\n",
    "        company = 'None'\n",
    "    try:\n",
    "        salary = soup.find(class_=\"salary\").text.replace(\"\\n\",\"\").strip()\n",
    "    except:\n",
    "        salary = 'None'\n",
    "    try:\n",
    "        sponsored = soup.find(class_=\"sponsoredGray\").text\n",
    "        sponsored = \"Sponsored\"\n",
    "    except:\n",
    "        sponsored = \"Organic\"\n",
    "        \n",
    "    sum_div = job.find_elements_by_class_name(\"summary\")[0]\n",
    "    try:\n",
    "        sum_div.click()\n",
    "    except:\n",
    "        close_button = driver.find_elements_by_class_name('popover-x-button-close')\n",
    "        close_button().click()\n",
    "        sum_div.click()\n",
    "    job_desc = driver.find_elements_by_class_name(\"location\")\n",
    "    \n",
    "    df = df.append({'Title':title,\"Location\":location,\"Company\":company,\n",
    "                    \"Sponsored\":sponsored,\"Description\":job_desc},\n",
    "                  ignore_index=True)\n",
    "        "
   ]
  },
  {
   "cell_type": "code",
   "execution_count": 44,
   "metadata": {},
   "outputs": [],
   "source": [
    "df.to_csv(\"datascience.csv\")"
   ]
  },
  {
   "cell_type": "code",
   "execution_count": 45,
   "metadata": {},
   "outputs": [],
   "source": []
  },
  {
   "cell_type": "code",
   "execution_count": 52,
   "metadata": {},
   "outputs": [],
   "source": [
    "#### machine jobs "
   ]
  },
  {
   "cell_type": "code",
   "execution_count": 56,
   "metadata": {},
   "outputs": [],
   "source": [
    "for i in range(0,500,10):\n",
    "    driver.get(\"https://eg.indeed.com/%D9%88%D8%B8%D8%A7%D8%A6%D9%81?q=machine+learning&l=egypt&start=\"+str(i))\n",
    "    driver.implicitly_wait(4)\n",
    "    all_jobs = driver.find_elements_by_class_name('result')\n"
   ]
  },
  {
   "cell_type": "code",
   "execution_count": 57,
   "metadata": {},
   "outputs": [],
   "source": [
    "for job in all_jobs:\n",
    "    result_html = job.get_attribute('innerHTML')\n",
    "    soup = BeautifulSoup(result_html , 'html.parser')\n",
    "    try:\n",
    "        title = soup.find(\"a\",class_=\"jobtitle\").text.replace('\\n','')\n",
    "    except:\n",
    "        title = 'None'\n",
    "    try:\n",
    "        location = soup.find(class_=\"location\").text\n",
    "    except:\n",
    "        location = 'None'\n",
    "    try:\n",
    "        company = soup.find(class_=\"company\").text.replace(\"\\n\",\"\").strip()\n",
    "    except:\n",
    "        company = 'None'\n",
    "    try:\n",
    "        salary = soup.find(class_=\"salary\").text.replace(\"\\n\",\"\").strip()\n",
    "    except:\n",
    "        salary = 'None'\n",
    "    try:\n",
    "        sponsored = soup.find(class_=\"sponsoredGray\").text\n",
    "        sponsored = \"Sponsored\"\n",
    "    except:\n",
    "        sponsored = \"Organic\"\n",
    "        \n",
    "    sum_div = job.find_elements_by_class_name(\"summary\")[0]\n",
    "    try:\n",
    "        sum_div.click()\n",
    "    except:\n",
    "        close_button = driver.find_elements_by_class_name('popover-x-button-close')\n",
    "        close_button().click()\n",
    "        sum_div.click()\n",
    "    job_desc = driver.find_elements_by_class_name(\"location\")\n",
    "    \n",
    "    df = df.append({'Title':title,\"Location\":location,\"Company\":company,\n",
    "                    \"Sponsored\":sponsored,\"Description\":job_desc},\n",
    "                  ignore_index=True)\n",
    "        "
   ]
  },
  {
   "cell_type": "code",
   "execution_count": 58,
   "metadata": {},
   "outputs": [],
   "source": [
    "df.to_csv(\"machinelearning.csv\")"
   ]
  },
  {
   "cell_type": "code",
   "execution_count": 59,
   "metadata": {},
   "outputs": [],
   "source": [
    "######### starting analysis"
   ]
  },
  {
   "cell_type": "code",
   "execution_count": 60,
   "metadata": {},
   "outputs": [],
   "source": [
    "import numpy as np\n",
    "import matplotlib.pyplot as plt"
   ]
  },
  {
   "cell_type": "code",
   "execution_count": 62,
   "metadata": {},
   "outputs": [],
   "source": [
    "df1 = pd.read_csv(\"datascience.csv\",encoding=\"utf-8\")\n",
    "df2 = pd.read_csv(\"machinelearning.csv\",encoding=\"utf-8\")\n",
    "\n",
    "data = pd.concat([df1,df2],axis=0).drop_duplicates()"
   ]
  },
  {
   "cell_type": "code",
   "execution_count": 63,
   "metadata": {},
   "outputs": [
    {
     "data": {
      "text/plain": [
       "(25, 9)"
      ]
     },
     "execution_count": 63,
     "metadata": {},
     "output_type": "execute_result"
    }
   ],
   "source": [
    "data.shape"
   ]
  },
  {
   "cell_type": "code",
   "execution_count": 64,
   "metadata": {},
   "outputs": [
    {
     "data": {
      "text/plain": [
       "<matplotlib.axes._subplots.AxesSubplot at 0x22fd66ee208>"
      ]
     },
     "execution_count": 64,
     "metadata": {},
     "output_type": "execute_result"
    },
    {
     "data": {
      "image/png": "[encoded data removed]",
      "text/plain": [
       "<Figure size 1440x360 with 1 Axes>"
      ]
     },
     "metadata": {
      "needs_background": "light"
     },
     "output_type": "display_data"
    }
   ],
   "source": [
    "counts = df.groupby(\"Company\").count()[\"Title\"].sort_values(ascending=False)[:20]\n",
    "counts.plot(\"bar\",figsize=(20,5))"
   ]
  },
  {
   "cell_type": "code",
   "execution_count": null,
   "metadata": {},
   "outputs": [],
   "source": []
  }
 ],
 "metadata": {
  "kernelspec": {
   "display_name": "Python 3",
   "language": "python",
   "name": "python3"
  },
  "language_info": {
   "codemirror_mode": {
    "name": "ipython",
    "version": 3
   },
   "file_extension": ".py",
   "mimetype": "text/x-python",
   "name": "python",
   "nbconvert_exporter": "python",
   "pygments_lexer": "ipython3",
   "version": "3.7.3"
  }
 },
 "nbformat": 4,
 "nbformat_minor": 2
}
